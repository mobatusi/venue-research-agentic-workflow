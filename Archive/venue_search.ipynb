{
 "cells": [
  {
   "cell_type": "markdown",
   "id": "e744665e-7420-433f-8463-a674b66492d5",
   "metadata": {},
   "source": [
    "# Venue Search Agentic Pipeline"
   ]
  },
  {
   "cell_type": "markdown",
   "id": "790ff40f-0146-47f9-84db-36997a267b8d",
   "metadata": {},
   "source": [
    "## Initial Imports"
   ]
  },
  {
   "cell_type": "code",
   "execution_count": 1,
   "id": "0e3c15b4-6886-4c22-a2a6-36005a50c035",
   "metadata": {
    "height": 200
   },
   "outputs": [],
   "source": [
    "# Warning control\n",
    "import warnings\n",
    "warnings.filterwarnings('ignore')\n",
    "\n",
    "# Load environment variables\n",
    "from helper import load_env\n",
    "load_env()\n",
    "\n",
    "import os\n",
    "import yaml\n",
    "from crewai import Agent, Task, Crew"
   ]
  },
  {
   "cell_type": "markdown",
   "id": "b8402a3e-5e30-4b5e-8fa9-bed7403a62a7",
   "metadata": {},
   "source": [
    "## Load API tokens for our 3rd party APIs"
   ]
  },
  {
   "cell_type": "code",
   "execution_count": 2,
   "id": "f5e31c2e-ab46-4c55-80ad-9841f422ffc7",
   "metadata": {
    "height": 30
   },
   "outputs": [],
   "source": [
    "os.environ['OPENAI_MODEL_NAME'] = 'o1-mini'"
   ]
  },
  {
   "cell_type": "markdown",
   "id": "3ec2797f-c0de-451e-a73b-bff04f981172",
   "metadata": {},
   "source": [
    "## Loading Tasks and Agents YAML files"
   ]
  },
  {
   "cell_type": "code",
   "execution_count": 12,
   "id": "4c943fa8-fda9-495c-9225-a841af833fea",
   "metadata": {
    "height": 336
   },
   "outputs": [],
   "source": [
    "# Define file paths for YAML configurations\n",
    "files = {\n",
    "    # 'data_collection_agents': 'config/agents/data_collection_agents.yaml',\n",
    "    # 'data_collection_tasks': 'config/tasks/data_collection_tasks.yaml',\n",
    "    'location_analysis_agents': 'config/agents/location_analysis_agents.yaml',\n",
    "    'location_analysis_tasks': 'config/tasks/location_analysis_tasks.yaml',\n",
    "    'email_engagement_agents': 'config/agents/email_engagements_agents.yaml',\n",
    "    'email_engagement_tasks': 'config/tasks/email_engagement_tasks.yaml',\n",
    "    'feature_extraction_agents': 'config/agents/feature_extraction_agents.yaml',\n",
    "    'feature_extraction_tasks': 'config/tasks/feature_extraction_tasks.yaml',\n",
    "    'scoring_agents': 'config/agents/scoring_agents.yaml',\n",
    "    'scoring_tasks': 'config/tasks/scoring_tasks.yaml',\n",
    "    'reporting_agents': 'config/agents/reporting_agents.yaml',\n",
    "    'reporting_tasks': 'config/tasks/reporting_tasks.yaml'\n",
    "}\n",
    "\n",
    "# Load configurations from YAML files\n",
    "configs = {}\n",
    "for config_type, file_path in files.items():\n",
    "    with open(file_path, 'r') as file:\n",
    "        configs[config_type] = yaml.safe_load(file)\n",
    "\n",
    "# Assign loaded configurations to specific variables\n",
    "# data_collection_agents_config = configs['data_collection_agents']\n",
    "# data_collection_tasks_config = configs['data_collection_tasks']\n",
    "location_analysis_agents_config = configs['location_analysis_agents']\n",
    "location_analysis_tasks_config = configs['location_analysis_tasks']\n",
    "feature_extraction_agents_config = configs['feature_extraction_agents']\n",
    "feature_extraction_tasks_config = configs['feature_extraction_tasks']\n",
    "scoring_agents_config = configs['scoring_agents']\n",
    "scoring_tasks_config = configs['scoring_tasks']\n",
    "email_engagement_agents_config = configs['email_engagement_agents']\n",
    "email_engagement_tasks_config = configs['email_engagement_tasks']\n",
    "reporting_agents_config = configs['reporting_agents']\n",
    "reporting_tasks_config = configs['reporting_tasks']"
   ]
  },
  {
   "cell_type": "markdown",
   "id": "7e25d7e2-143d-4223-b770-75c5dcaa257e",
   "metadata": {},
   "source": [
    "## Create Pydantic Models for Structured Output"
   ]
  },
  {
   "cell_type": "code",
   "execution_count": 4,
   "id": "792a5ecb-fbc3-43e5-a5aa-06882d9f3765",
   "metadata": {
    "height": 438
   },
   "outputs": [],
   "source": [
    "from pydantic import BaseModel, Field\n",
    "from typing import Dict, Optional, List, Set, Tuple\n",
    "\n",
    "# Venue Search Pydantic Models\n",
    "class Venue(BaseModel):\n",
    "    name: str = Field(..., description=\"The name of the venue.\")\n",
    "    location: str = Field(..., description=\"The location of the venue.\")\n",
    "    capacity: int = Field(..., description=\"The capacity of the venue in terms of attendees.\")\n",
    "    amenities: List[str] = Field(..., description=\"A list of amenities available at the venue.\")\n",
    "    accessibility: str = Field(..., description=\"The accessibility of the venue for attendees with disabilities.\")\n",
    "    pricing: float = Field(..., description=\"The pricing of the venue per attendee.\")\n",
    "    website: str = Field(..., description=\"The website of the venue.\")\n",
    "    contact_info: str = Field(..., description=\"The contact information of the venue.\")\n",
    "    reviews: List[str] = Field(..., description=\"A list of reviews of the venue.\")\n",
    "    photos: List[str] = Field(..., description=\"A list of photos of the venue.\")\n",
    "    capacity: int = Field(..., description=\"The capacity of the venue in terms of attendees.\")\n",
    "    amenities: List[str] = Field(..., description=\"A list of amenities available at the venue.\")\n",
    "    accessibility: str = Field(..., description=\"The accessibility of the venue for attendees with disabilities.\")\n",
    "    pricing: float = Field(..., description=\"The pricing of the venue per attendee.\")\n",
    "    website: str = Field(..., description=\"The website of the venue.\")\n",
    "    contact_info: str = Field(..., description=\"The contact information of the venue.\")\n",
    "    reviews: List[str] = Field(..., description=\"A list of reviews of the venue.\")\n",
    "    photos: List[str] = Field(..., description=\"A list of photos of the venue.\")\n",
    "\n",
    "class VenueScore(BaseModel):\n",
    "    score: int = Field(..., ge=0, le=100, description=\"The final score assigned to the venue (0-100).\")\n",
    "    scoring_criteria: List[str] = Field(..., description=\"The criteria used to determine the venue's score.\")\n",
    "    validation_notes: Optional[str] = Field(None, description=\"Any notes regarding the validation of the venue score.\")\n",
    "\n",
    "class VenueScoringResult(BaseModel):\n",
    "    venue: Venue = Field(..., description=\"The venue object with all its attributes.\")\n",
    "    venue_score: VenueScore = Field(..., description=\"The calculated score and related information for the venue.\") \n",
    "\n"
   ]
  },
  {
   "cell_type": "markdown",
   "id": "6a68f357-7b55-4bf4-a011-27f3df6d1f11",
   "metadata": {},
   "source": [
    "## Importing Tools"
   ]
  },
  {
   "cell_type": "code",
   "execution_count": 5,
   "id": "ad39d218-6727-4055-8ea7-c1610631f4ab",
   "metadata": {
    "height": 30
   },
   "outputs": [],
   "source": [
    "from crewai_tools import SerperDevTool, ScrapeWebsiteTool"
   ]
  },
  {
   "cell_type": "markdown",
   "id": "7efd8c33-7009-4794-96b7-9a59c8669083",
   "metadata": {},
   "source": [
    "## Lead Qualification Crew, Agents and Tasks"
   ]
  },
  {
   "cell_type": "code",
   "execution_count": 6,
   "id": "57e0ba2e-a86a-4a20-ab38-62eb89abdf57",
   "metadata": {
    "height": 829
   },
   "outputs": [],
   "source": [
    "# Creating Agents\n",
    "\n",
    "# data_collection_agent = Agent(\n",
    "#   config=data_collection_agents_config['data_collector'],\n",
    "#   tools=[SerperDevTool(), ScrapeWebsiteTool()]\n",
    "# )\n",
    "\n",
    "location_analysis_agent = Agent(\n",
    "  config=location_analysis_agents_config['location_analyst'],\n",
    "  tools=[SerperDevTool(), ScrapeWebsiteTool()]\n",
    ")\n",
    "\n",
    "feature_extraction_agent = Agent(\n",
    "  config=feature_extraction_agents_config['feature_extractor'],\n",
    "  tools=[SerperDevTool(), ScrapeWebsiteTool()]\n",
    ")\n",
    "\n",
    "scoring_agent = Agent(\n",
    "  config=scoring_agents_config['scoring_agent'],\n",
    "  tools=[SerperDevTool(), ScrapeWebsiteTool()]\n",
    ")\n",
    "\n",
    "email_engagement_agent = Agent(\n",
    "  config=email_engagement_agents_config['email_agent'],\n",
    "  tools=[SerperDevTool(), ScrapeWebsiteTool()]\n",
    ")\n",
    "\n",
    "reporting_agent = Agent(\n",
    "  config=reporting_agents_config['reporting_agent'],\n",
    "  tools=[SerperDevTool(), ScrapeWebsiteTool()]\n",
    ")\n",
    "\n",
    "# Creating Tasks\n",
    "# data_collection_task = Task(\n",
    "#   config=data_collection_tasks_config['collect_conference_data'],\n",
    "#   agent=data_collection_agent\n",
    "# )\n",
    "\n",
    "location_analysis_task = Task(\n",
    "  config=location_analysis_tasks_config['identify_venues'],\n",
    "  agent=location_analysis_agent\n",
    ")\n",
    "\n",
    "feature_extraction_task = Task(\n",
    "  config=feature_extraction_tasks_config['extract_features'],\n",
    "  agent=feature_extraction_agent\n",
    ")\n",
    "\n",
    "scoring_task = Task(\n",
    "  config=scoring_tasks_config['score_venues'],\n",
    "  agent=scoring_agent,\n",
    "  context=[location_analysis_task, feature_extraction_task],\n",
    "  output_pydantic=VenueScoringResult\n",
    ")\n",
    "\n",
    "email_engagement_task = Task(\n",
    "  config=email_engagement_tasks_config['generate_emails'],\n",
    "  agent=email_engagement_agent,\n",
    "  context=[scoring_task],\n",
    "  output_pydantic=VenueScoringResult\n",
    ")\n",
    "\n",
    "reporting_task = Task(\n",
    "  config=reporting_tasks_config['generate_report'],\n",
    "  agent=reporting_agent,\n",
    "  context=[scoring_task],\n",
    "  output_pydantic=VenueScoringResult\n",
    ")\n",
    "\n",
    "# Creating Crew\n",
    "venue_scoring_crew = Crew(\n",
    "  agents=[\n",
    "    # data_collection_agent,\n",
    "    location_analysis_agent,\n",
    "    feature_extraction_agent,\n",
    "    scoring_agent,\n",
    "    email_engagement_agent,\n",
    "    reporting_agent\n",
    "  ],\n",
    "  tasks=[\n",
    "    # data_collection_task,\n",
    "    location_analysis_task,\n",
    "    feature_extraction_task,\n",
    "    scoring_task,\n",
    "    email_engagement_task,\n",
    "    reporting_task\n",
    "  ],\n",
    "  verbose=True\n",
    ")"
   ]
  },
  {
   "cell_type": "markdown",
   "id": "38c235e8-9efd-4496-88fd-aa32b4744fb5",
   "metadata": {},
   "source": [
    "## Creating Complete Venue Search Flow"
   ]
  },
  {
   "cell_type": "code",
   "execution_count": 13,
   "id": "c6976784-c70c-4ec8-882a-12b1250f4354",
   "metadata": {
    "height": 812
   },
   "outputs": [],
   "source": [
    "from crewai import Flow\n",
    "from crewai.flow.flow import listen, start\n",
    "\n",
    "class VenueSearchPipeline(Flow):\n",
    "    @start()\n",
    "    def analyze_locations(self):\n",
    "        # Start with location analysis\n",
    "        location = [\n",
    "            {\n",
    "                \"address\": \"333 Adams St, Brooklyn, NY 11201, United States\", \n",
    "                \"radius_km\": 10\n",
    "            }\n",
    "        ]\n",
    "        venues = venue_scoring_crew.kickoff_for_each(venues)\n",
    "        self.state[\"venue_analysis_results\"] = analysis\n",
    "        return analysis\n",
    "\n",
    "    @listen(analyze_locations)\n",
    "    def extract_features(self, locations):\n",
    "        # Extract and analyze venue features from location analysis results\n",
    "        return venue_scoring_crew.kickoff()\n",
    "\n",
    "    @listen(extract_features)\n",
    "    def score_venues(self, features):\n",
    "        scores = venue_scoring_crew.kickoff()\n",
    "        return [venue for venue in scores if venue['venue_score'].score > 80]\n",
    "\n",
    "    @listen(score_venues)\n",
    "    def generate_emails(self, scored_venues):\n",
    "        venue_contacts = [venue.to_dict() for venue in scored_venues]\n",
    "        emails = venue_scoring_crew.kickoff_for_each(venue_contacts)\n",
    "        return emails\n",
    "\n",
    "    @listen(generate_emails)\n",
    "    def generate_report(self, outreach_data):\n",
    "        # Generate final report with venue analysis and recommendations\n",
    "        return venue_scoring_crew.kickoff()\n",
    "\n",
    "flow = VenueSearchPipeline()"
   ]
  },
  {
   "cell_type": "markdown",
   "id": "47a1d640-12d2-4dbd-8095-7fe47dbd729c",
   "metadata": {},
   "source": [
    "## Plotting the Flow"
   ]
  },
  {
   "cell_type": "code",
   "execution_count": 14,
   "id": "3c90a3f2-3bc1-446b-beff-4a02d84e72dd",
   "metadata": {
    "height": 30
   },
   "outputs": [
    {
     "name": "stdout",
     "output_type": "stream",
     "text": [
      "Plot saved as crewai_flow.html\n"
     ]
    }
   ],
   "source": [
    "VenueSearchPipeline().plot()"
   ]
  },
  {
   "cell_type": "code",
   "execution_count": null,
   "id": "5cd8e46b-e2fa-45a1-ab35-aaa1f3f2e0ff",
   "metadata": {
    "height": 64
   },
   "outputs": [],
   "source": [
    "from IPython.display import IFrame\n",
    "\n",
    "IFrame(src='./crewai_flow.html', width='150%', height=600)"
   ]
  },
  {
   "cell_type": "markdown",
   "id": "6aa4aa2c-cbe5-49a4-8569-0fa8d2d59666",
   "metadata": {},
   "source": [
    "## Flow Kickoff"
   ]
  },
  {
   "cell_type": "code",
   "execution_count": 11,
   "id": "366549b1",
   "metadata": {},
   "outputs": [
    {
     "name": "stderr",
     "output_type": "stream",
     "text": [
      "2024-12-22 18:32:26,713 - 8178152000 - __init__.py-__init__:537 - WARNING: Overriding of current TracerProvider is not allowed\n"
     ]
    },
    {
     "name": "stdout",
     "output_type": "stream",
     "text": [
      "[Flow._execute_single_listener] Error in method analyze_locations: 'venue_name'\n"
     ]
    },
    {
     "name": "stderr",
     "output_type": "stream",
     "text": [
      "Traceback (most recent call last):\n",
      "  File \"/opt/homebrew/Caskroom/miniforge/base/envs/agents/lib/python3.11/site-packages/crewai/flow/flow.py\", line 363, in _execute_single_listener\n",
      "    listener_result = await self._execute_method(\n",
      "                      ^^^^^^^^^^^^^^^^^^^^^^^^^^^\n",
      "  File \"/opt/homebrew/Caskroom/miniforge/base/envs/agents/lib/python3.11/site-packages/crewai/flow/flow.py\", line 306, in _execute_method\n",
      "    else method(*args, **kwargs)\n",
      "         ^^^^^^^^^^^^^^^^^^^^^^^\n",
      "  File \"/var/folders/j8/srk4gzf14p160qz3lr94rck80000gn/T/ipykernel_21787/1483754285.py\", line 18, in analyze_locations\n",
      "    analysis = venue_scoring_crew.kickoff_for_each(venues)\n",
      "               ^^^^^^^^^^^^^^^^^^^^^^^^^^^^^^^^^^^^^^^^^^^\n",
      "  File \"/opt/homebrew/Caskroom/miniforge/base/envs/agents/lib/python3.11/site-packages/crewai/crew.py\", line 582, in kickoff_for_each\n",
      "    output = crew.kickoff(inputs=input_data)\n",
      "             ^^^^^^^^^^^^^^^^^^^^^^^^^^^^^^^\n",
      "  File \"/opt/homebrew/Caskroom/miniforge/base/envs/agents/lib/python3.11/site-packages/crewai/crew.py\", line 526, in kickoff\n",
      "    self._interpolate_inputs(inputs)\n",
      "  File \"/opt/homebrew/Caskroom/miniforge/base/envs/agents/lib/python3.11/site-packages/crewai/crew.py\", line 1017, in _interpolate_inputs\n",
      "    [\n",
      "  File \"/opt/homebrew/Caskroom/miniforge/base/envs/agents/lib/python3.11/site-packages/crewai/crew.py\", line 1018, in <listcomp>\n",
      "    task.interpolate_inputs(\n",
      "  File \"/opt/homebrew/Caskroom/miniforge/base/envs/agents/lib/python3.11/site-packages/crewai/task.py\", line 310, in interpolate_inputs\n",
      "    self.description = self._original_description.format(**inputs)\n",
      "                       ^^^^^^^^^^^^^^^^^^^^^^^^^^^^^^^^^^^^^^^^^^^\n",
      "KeyError: 'venue_name'\n"
     ]
    }
   ],
   "source": [
    "import asyncio\n",
    "\n",
    "# Create a new event loop and run once\n",
    "# loop = asyncio.new_event_loop()\n",
    "# asyncio.set_event_loop(loop)\n",
    "# report = loop.run_until_complete(flow.kickoff_async())\n",
    "# loop.close()\n",
    "report = await flow.kickoff_async()\n"
   ]
  },
  {
   "cell_type": "markdown",
   "id": "69752619-a9b6-4361-89d4-cbd35dbcb0c0",
   "metadata": {},
   "source": [
    "## Usage Metrics and Costs"
   ]
  },
  {
   "cell_type": "markdown",
   "id": "ea0216d0-7cc6-4593-9353-f12aac5eb04e",
   "metadata": {},
   "source": [
    "Let’s see how much it would cost each time if this crew runs at scale."
   ]
  },
  {
   "cell_type": "code",
   "execution_count": 12,
   "id": "5cd2ad40-12a3-401f-ad32-6bd54a099734",
   "metadata": {
    "height": 200
   },
   "outputs": [
    {
     "name": "stdout",
     "output_type": "stream",
     "text": [
      "Total costs: $0.0038\n"
     ]
    },
    {
     "data": {
      "text/html": [
       "<div>\n",
       "<style scoped>\n",
       "    .dataframe tbody tr th:only-of-type {\n",
       "        vertical-align: middle;\n",
       "    }\n",
       "\n",
       "    .dataframe tbody tr th {\n",
       "        vertical-align: top;\n",
       "    }\n",
       "\n",
       "    .dataframe thead th {\n",
       "        text-align: right;\n",
       "    }\n",
       "</style>\n",
       "<table border=\"1\" class=\"dataframe\">\n",
       "  <thead>\n",
       "    <tr style=\"text-align: right;\">\n",
       "      <th></th>\n",
       "      <th>total_tokens</th>\n",
       "      <th>prompt_tokens</th>\n",
       "      <th>cached_prompt_tokens</th>\n",
       "      <th>completion_tokens</th>\n",
       "      <th>successful_requests</th>\n",
       "    </tr>\n",
       "  </thead>\n",
       "  <tbody>\n",
       "    <tr>\n",
       "      <th>0</th>\n",
       "      <td>25294</td>\n",
       "      <td>23256</td>\n",
       "      <td>10496</td>\n",
       "      <td>2038</td>\n",
       "      <td>10</td>\n",
       "    </tr>\n",
       "  </tbody>\n",
       "</table>\n",
       "</div>"
      ],
      "text/plain": [
       "   total_tokens  prompt_tokens  cached_prompt_tokens  completion_tokens  \\\n",
       "0         25294          23256                 10496               2038   \n",
       "\n",
       "   successful_requests  \n",
       "0                   10  "
      ]
     },
     "execution_count": 12,
     "metadata": {},
     "output_type": "execute_result"
    }
   ],
   "source": [
    "import pandas as pd\n",
    "\n",
    "# Convert UsageMetrics instance to a DataFrame\n",
    "df_usage_metrics = pd.DataFrame([flow.state[\"score_crews_results\"][0].token_usage.dict()])\n",
    "\n",
    "# Calculate total costs\n",
    "costs = 0.150 * df_usage_metrics['total_tokens'].sum() / 1_000_000\n",
    "print(f\"Total costs: ${costs:.4f}\")\n",
    "\n",
    "# Display the DataFrame\n",
    "df_usage_metrics"
   ]
  },
  {
   "cell_type": "code",
   "execution_count": 13,
   "id": "fae27085-f186-40d2-84d8-3aad6ee8a322",
   "metadata": {
    "height": 200
   },
   "outputs": [
    {
     "name": "stdout",
     "output_type": "stream",
     "text": [
      "Total costs: $0.0002\n"
     ]
    },
    {
     "data": {
      "text/html": [
       "<div>\n",
       "<style scoped>\n",
       "    .dataframe tbody tr th:only-of-type {\n",
       "        vertical-align: middle;\n",
       "    }\n",
       "\n",
       "    .dataframe tbody tr th {\n",
       "        vertical-align: top;\n",
       "    }\n",
       "\n",
       "    .dataframe thead th {\n",
       "        text-align: right;\n",
       "    }\n",
       "</style>\n",
       "<table border=\"1\" class=\"dataframe\">\n",
       "  <thead>\n",
       "    <tr style=\"text-align: right;\">\n",
       "      <th></th>\n",
       "      <th>total_tokens</th>\n",
       "      <th>prompt_tokens</th>\n",
       "      <th>cached_prompt_tokens</th>\n",
       "      <th>completion_tokens</th>\n",
       "      <th>successful_requests</th>\n",
       "    </tr>\n",
       "  </thead>\n",
       "  <tbody>\n",
       "    <tr>\n",
       "      <th>0</th>\n",
       "      <td>1303</td>\n",
       "      <td>1071</td>\n",
       "      <td>0</td>\n",
       "      <td>232</td>\n",
       "      <td>2</td>\n",
       "    </tr>\n",
       "  </tbody>\n",
       "</table>\n",
       "</div>"
      ],
      "text/plain": [
       "   total_tokens  prompt_tokens  cached_prompt_tokens  completion_tokens  \\\n",
       "0          1303           1071                     0                232   \n",
       "\n",
       "   successful_requests  \n",
       "0                    2  "
      ]
     },
     "execution_count": 13,
     "metadata": {},
     "output_type": "execute_result"
    }
   ],
   "source": [
    "import pandas as pd\n",
    "\n",
    "# Convert UsageMetrics instance to a DataFrame\n",
    "df_usage_metrics = pd.DataFrame([emails[0].token_usage.dict()])\n",
    "\n",
    "# Calculate total costs\n",
    "costs = 0.150 * df_usage_metrics['total_tokens'].sum() / 1_000_000\n",
    "print(f\"Total costs: ${costs:.4f}\")\n",
    "\n",
    "# Display the DataFrame\n",
    "df_usage_metrics"
   ]
  },
  {
   "cell_type": "markdown",
   "id": "791302ad-20f0-45ab-bd0a-3edd6977a639",
   "metadata": {},
   "source": [
    "## Inspecting Results"
   ]
  },
  {
   "cell_type": "code",
   "execution_count": 14,
   "id": "d10efceb-e3fd-4324-9337-879be159f093",
   "metadata": {
    "height": 30
   },
   "outputs": [],
   "source": [
    "scores = flow.state[\"score_crews_results\"]"
   ]
  },
  {
   "cell_type": "code",
   "execution_count": 15,
   "id": "7860c745-0c7e-4edd-bf8b-75beb14f64bd",
   "metadata": {
    "height": 659
   },
   "outputs": [
    {
     "data": {
      "text/html": [
       "<style type=\"text/css\">\n",
       "#T_9e517_row0_col0, #T_9e517_row0_col1, #T_9e517_row1_col0, #T_9e517_row1_col1, #T_9e517_row2_col0, #T_9e517_row2_col1, #T_9e517_row3_col0, #T_9e517_row3_col1, #T_9e517_row4_col0, #T_9e517_row4_col1, #T_9e517_row5_col0, #T_9e517_row5_col1, #T_9e517_row6_col0, #T_9e517_row6_col1, #T_9e517_row7_col0, #T_9e517_row7_col1, #T_9e517_row8_col0, #T_9e517_row8_col1, #T_9e517_row9_col0, #T_9e517_row9_col1, #T_9e517_row10_col0, #T_9e517_row10_col1, #T_9e517_row11_col0, #T_9e517_row11_col1 {\n",
       "  text-align: left;\n",
       "}\n",
       "</style>\n",
       "<table id=\"T_9e517\">\n",
       "  <thead>\n",
       "    <tr>\n",
       "      <th id=\"T_9e517_level0_col0\" class=\"col_heading level0 col0\" >Attribute</th>\n",
       "      <th id=\"T_9e517_level0_col1\" class=\"col_heading level0 col1\" >Value</th>\n",
       "    </tr>\n",
       "  </thead>\n",
       "  <tbody>\n",
       "    <tr>\n",
       "      <td id=\"T_9e517_row0_col0\" class=\"data row0 col0\" ><b>Name</b></td>\n",
       "      <td id=\"T_9e517_row0_col1\" class=\"data row0 col1\" >João Moura</td>\n",
       "    </tr>\n",
       "    <tr>\n",
       "      <td id=\"T_9e517_row1_col0\" class=\"data row1 col0\" ><b>Job Title</b></td>\n",
       "      <td id=\"T_9e517_row1_col1\" class=\"data row1 col1\" >Director of Engineering</td>\n",
       "    </tr>\n",
       "    <tr>\n",
       "      <td id=\"T_9e517_row2_col0\" class=\"data row2 col0\" ><b>Role Relevance</b></td>\n",
       "      <td id=\"T_9e517_row2_col1\" class=\"data row2 col1\" >8</td>\n",
       "    </tr>\n",
       "    <tr>\n",
       "      <td id=\"T_9e517_row3_col0\" class=\"data row3 col0\" ><b>Professional Background</b></td>\n",
       "      <td id=\"T_9e517_row3_col1\" class=\"data row3 col1\" >João Moura has nearly 20 years of experience in the software engineering field. He is currently in a leadership role at Clearbit, where he has been integral in building and scaling the engineering team. His interests include data science, game development, and open source contributions. He previously worked as a senior software engineer and has a strong technical background in multiple programming languages, making him a well-rounded professional in his field.</td>\n",
       "    </tr>\n",
       "    <tr>\n",
       "      <td id=\"T_9e517_row4_col0\" class=\"data row4 col0\" ><b>Company Name</b></td>\n",
       "      <td id=\"T_9e517_row4_col1\" class=\"data row4 col1\" >Clearbit</td>\n",
       "    </tr>\n",
       "    <tr>\n",
       "      <td id=\"T_9e517_row5_col0\" class=\"data row5 col0\" ><b>Industry</b></td>\n",
       "      <td id=\"T_9e517_row5_col1\" class=\"data row5 col1\" >B2B Marketing Intelligence / Data Enrichment</td>\n",
       "    </tr>\n",
       "    <tr>\n",
       "      <td id=\"T_9e517_row6_col0\" class=\"data row6 col0\" ><b>Company Size</b></td>\n",
       "      <td id=\"T_9e517_row6_col1\" class=\"data row6 col1\" >139</td>\n",
       "    </tr>\n",
       "    <tr>\n",
       "      <td id=\"T_9e517_row7_col0\" class=\"data row7 col0\" ><b>Revenue</b></td>\n",
       "      <td id=\"T_9e517_row7_col1\" class=\"data row7 col1\" >31.500000</td>\n",
       "    </tr>\n",
       "    <tr>\n",
       "      <td id=\"T_9e517_row8_col0\" class=\"data row8 col0\" ><b>Market Presence</b></td>\n",
       "      <td id=\"T_9e517_row8_col1\" class=\"data row8 col1\" >8</td>\n",
       "    </tr>\n",
       "    <tr>\n",
       "      <td id=\"T_9e517_row9_col0\" class=\"data row9 col0\" ><b>Lead Score</b></td>\n",
       "      <td id=\"T_9e517_row9_col1\" class=\"data row9 col1\" >78</td>\n",
       "    </tr>\n",
       "    <tr>\n",
       "      <td id=\"T_9e517_row10_col0\" class=\"data row10 col0\" ><b>Scoring Criteria</b></td>\n",
       "      <td id=\"T_9e517_row10_col1\" class=\"data row10 col1\" >Role Relevance: 8 (Highly relevant due to senior position and involvement in automation decisions), Company Size: 7 (Approximately 139 employees, fits enterprise ICP), Market Presence: 8 (Strong visibility in B2B marketing intelligence sector), Cultural Fit: 8 (Alignment in core values and strategic objectives)</td>\n",
       "    </tr>\n",
       "    <tr>\n",
       "      <td id=\"T_9e517_row11_col0\" class=\"data row11 col0\" ><b>Validation Notes</b></td>\n",
       "      <td id=\"T_9e517_row11_col1\" class=\"data row11 col1\" >Validated company and industry details. All data points align with expected criteria.</td>\n",
       "    </tr>\n",
       "  </tbody>\n",
       "</table>\n"
      ],
      "text/plain": [
       "<IPython.core.display.HTML object>"
      ]
     },
     "metadata": {},
     "output_type": "display_data"
    }
   ],
   "source": [
    "import pandas as pd\n",
    "from IPython.display import display, HTML\n",
    "\n",
    "lead_scoring_result = scores[0].pydantic\n",
    "\n",
    "# Create a dictionary with the nested structure flattened\n",
    "data = {\n",
    "    'Name': lead_scoring_result.personal_info.name,\n",
    "    'Job Title': lead_scoring_result.personal_info.job_title,\n",
    "    'Role Relevance': lead_scoring_result.personal_info.role_relevance,\n",
    "    'Professional Background': lead_scoring_result.personal_info.professional_background,\n",
    "    'Company Name': lead_scoring_result.company_info.company_name,\n",
    "    'Industry': lead_scoring_result.company_info.industry,\n",
    "    'Company Size': lead_scoring_result.company_info.company_size,\n",
    "    'Revenue': lead_scoring_result.company_info.revenue,\n",
    "    'Market Presence': lead_scoring_result.company_info.market_presence,\n",
    "    'Lead Score': lead_scoring_result.lead_score.score,\n",
    "    'Scoring Criteria': ', '.join(lead_scoring_result.lead_score.scoring_criteria),\n",
    "    'Validation Notes': lead_scoring_result.lead_score.validation_notes\n",
    "}\n",
    "\n",
    "# Convert the dictionary to a DataFrame\n",
    "df = pd.DataFrame.from_dict(data, orient='index', columns=['Value'])\n",
    "\n",
    "# Reset the index to turn the original column names into a regular column\n",
    "df = df.reset_index()\n",
    "\n",
    "# Rename the index column to 'Attribute'\n",
    "df = df.rename(columns={'index': 'Attribute'})\n",
    "\n",
    "# Create HTML table with bold attributes and left-aligned values\n",
    "html_table = df.style.set_properties(**{'text-align': 'left'}) \\\n",
    "                     .format({'Attribute': lambda x: f'<b>{x}</b>'}) \\\n",
    "                     .hide(axis='index') \\\n",
    "                     .to_html()\n",
    "\n",
    "# Display the styled HTML table\n",
    "display(HTML(html_table))"
   ]
  },
  {
   "cell_type": "markdown",
   "id": "729b2336-f71d-4760-b70e-6d831cd9fbd8",
   "metadata": {},
   "source": [
    "## Results"
   ]
  },
  {
   "cell_type": "code",
   "execution_count": 16,
   "id": "8c221ae1-6310-472b-aaeb-c046a5d1a08c",
   "metadata": {
    "height": 98
   },
   "outputs": [
    {
     "name": "stdout",
     "output_type": "stream",
     "text": [
      "João, imagine transforming Clearbit's automation with CrewAI's groundbreaking\n",
      "Multi-Agent Orchestration Platform. Seamlessly orchestrate AI Agents tailored\n",
      "specifically for your B2B marketing intelligence needs. Picture enhanced data\n",
      "enrichment processes and skyrocketing efficiencies.   Take the next step:\n",
      "**[Schedule a meeting now](#)** to unveil how CrewAI can revolutionize your\n",
      "engineering objectives. Don’t miss this opportunity to lead your team into an\n",
      "automated future. **[Explore more](#)** today and see immediate benefits for\n",
      "your engineering goals.\n"
     ]
    }
   ],
   "source": [
    "import textwrap\n",
    "\n",
    "result_text = emails[0].raw\n",
    "wrapped_text = textwrap.fill(result_text, width=80)\n",
    "print(wrapped_text)"
   ]
  },
  {
   "cell_type": "markdown",
   "id": "8de1e303-6b10-4010-af59-54afa6a55f59",
   "metadata": {},
   "source": [
    "## How Complex Can it Get?"
   ]
  },
  {
   "cell_type": "code",
   "execution_count": 23,
   "id": "a39a9216-103f-4a55-81ed-95a0ad41c73c",
   "metadata": {
    "height": 1186
   },
   "outputs": [],
   "source": [
    "from crewai import Flow\n",
    "from crewai.flow.flow import listen, start, and_, or_, router\n",
    "\n",
    "class SalesPipeline(Flow):\n",
    "    \n",
    "  @start()\n",
    "  def fetch_leads(self):\n",
    "    # Pull our leads from the database\n",
    "    # This is a mock, in a real-world scenario, this is where you would\n",
    "    # fetch leads from a database\n",
    "    leads = [\n",
    "      {\n",
    "        \"lead_data\": {\n",
    "          \"name\": \"João Moura\",\n",
    "          \"job_title\": \"Director of Engineering\",\n",
    "          \"company\": \"Clearbit\",\n",
    "          \"email\": \"joao@clearbit.com\",\n",
    "          \"use_case\": \"Using AI Agent to do better data enrichment.\"\n",
    "        },\n",
    "      },\n",
    "    ]\n",
    "    return leads\n",
    "\n",
    "  @listen(fetch_leads)\n",
    "  def score_leads(self, leads):\n",
    "    scores = lead_scoring_crew.kickoff_for_each(leads)\n",
    "    self.state[\"score_crews_results\"] = scores\n",
    "    return scores\n",
    "\n",
    "  @listen(score_leads)\n",
    "  def store_leads_score(self, scores):\n",
    "    # Here we would store the scores in the database\n",
    "    return scores\n",
    "\n",
    "  @listen(score_leads)\n",
    "  def filter_leads(self, scores):\n",
    "    return [score for score in scores if score['lead_score'].score > 70]\n",
    "\n",
    "  @listen(and_(filter_leads, store_leads_score))\n",
    "  def log_leads(self, leads):\n",
    "    print(f\"Leads: {leads}\")\n",
    "\n",
    "  @router(filter_leads)\n",
    "  def count_leads(self, scores):\n",
    "    if len(scores) > 10:\n",
    "      return 'high'\n",
    "    elif len(scores) > 5:\n",
    "      return 'medium'\n",
    "    else:\n",
    "      return 'low'\n",
    "\n",
    "  @listen('high')\n",
    "  def store_in_salesforce(self, leads):\n",
    "    return leads\n",
    "\n",
    "  @listen('medium')\n",
    "  def send_to_sales_team(self, leads):\n",
    "    return leads\n",
    "\n",
    "  @listen('low')\n",
    "  def write_email(self, leads):\n",
    "    scored_leads = [lead.to_dict() for lead in leads]\n",
    "    emails = email_writing_crew.kickoff_for_each(scored_leads)\n",
    "    return emails\n",
    "\n",
    "  @listen(write_email)\n",
    "  def send_email(self, emails):\n",
    "    # Here we would send the emails to the leads\n",
    "    return emails"
   ]
  },
  {
   "cell_type": "markdown",
   "id": "e900385f-10be-4f4b-aaa9-f1408b8b4be6",
   "metadata": {},
   "source": [
    "## Plotting the Flow"
   ]
  },
  {
   "cell_type": "code",
   "execution_count": 24,
   "id": "eecf2beb-818a-4db5-8338-280beac670b9",
   "metadata": {
    "height": 47
   },
   "outputs": [
    {
     "name": "stdout",
     "output_type": "stream",
     "text": [
      "Plot saved as crewai_flow.html\n"
     ]
    }
   ],
   "source": [
    "flow = SalesPipeline()\n",
    "flow.plot()"
   ]
  },
  {
   "cell_type": "code",
   "execution_count": 36,
   "id": "41d8a4df-a0cc-4aa5-a5cf-390792c7cec6",
   "metadata": {
    "height": 64
   },
   "outputs": [
    {
     "data": {
      "text/html": [
       "\n",
       "        <iframe\n",
       "            width=\"150%\"\n",
       "            height=\"600\"\n",
       "            src=\"./mixercloud_venue_search_flow.html\"\n",
       "            frameborder=\"0\"\n",
       "            allowfullscreen\n",
       "            \n",
       "        ></iframe>\n",
       "        "
      ],
      "text/plain": [
       "<IPython.lib.display.IFrame at 0x16a9d5790>"
      ]
     },
     "execution_count": 36,
     "metadata": {},
     "output_type": "execute_result"
    }
   ],
   "source": [
    "from IPython.display import IFrame\n",
    "\n",
    "IFrame(src='./mixercloud_venue_search_flow.html', width='150%', height=600)\n"
   ]
  },
  {
   "cell_type": "code",
   "execution_count": 43,
   "id": "ae73521d",
   "metadata": {},
   "outputs": [
    {
     "ename": "ModuleNotFoundError",
     "evalue": "No module named 'dash'",
     "output_type": "error",
     "traceback": [
      "\u001b[0;31m---------------------------------------------------------------------------\u001b[0m",
      "\u001b[0;31mModuleNotFoundError\u001b[0m                       Traceback (most recent call last)",
      "Cell \u001b[0;32mIn[43], line 1\u001b[0m\n\u001b[0;32m----> 1\u001b[0m \u001b[38;5;28;01mimport\u001b[39;00m \u001b[38;5;21;01mdash\u001b[39;00m\n\u001b[1;32m      2\u001b[0m \u001b[38;5;28;01mfrom\u001b[39;00m \u001b[38;5;21;01mdash\u001b[39;00m \u001b[38;5;28;01mimport\u001b[39;00m html\n\u001b[1;32m      4\u001b[0m app \u001b[38;5;241m=\u001b[39m dash\u001b[38;5;241m.\u001b[39mDash(\u001b[38;5;18m__name__\u001b[39m)\n",
      "\u001b[0;31mModuleNotFoundError\u001b[0m: No module named 'dash'"
     ]
    }
   ],
   "source": [
    "import dash\n",
    "from dash import html\n",
    "\n",
    "app = dash.Dash(__name__)\n",
    "\n",
    "app.layout = html.Div([\n",
    "    html.Iframe(src=\"./mixercloud_venue_search_flow.html\", width=\"800\", height=\"600\")\n",
    "])\n"
   ]
  },
  {
   "cell_type": "code",
   "execution_count": null,
   "id": "e922d823-f10d-49bb-b4da-8c6db459127a",
   "metadata": {
    "height": 30
   },
   "outputs": [],
   "source": []
  },
  {
   "cell_type": "code",
   "execution_count": null,
   "id": "f4565b50-2a62-4abd-929d-5b03d5aa5dcf",
   "metadata": {
    "height": 30
   },
   "outputs": [],
   "source": []
  },
  {
   "cell_type": "code",
   "execution_count": null,
   "id": "0ec9be22-37f3-4558-b3c3-8057d397e368",
   "metadata": {
    "height": 30
   },
   "outputs": [],
   "source": []
  },
  {
   "cell_type": "code",
   "execution_count": null,
   "id": "f4a04fe2-0022-4928-957c-891d0ba4d094",
   "metadata": {
    "height": 30
   },
   "outputs": [],
   "source": []
  },
  {
   "cell_type": "code",
   "execution_count": null,
   "id": "18389a54-953e-450e-a033-59ad5029b434",
   "metadata": {
    "height": 30
   },
   "outputs": [],
   "source": []
  }
 ],
 "metadata": {
  "kernelspec": {
   "display_name": "Python 3 (ipykernel)",
   "language": "python",
   "name": "python3"
  },
  "language_info": {
   "codemirror_mode": {
    "name": "ipython",
    "version": 3
   },
   "file_extension": ".py",
   "mimetype": "text/x-python",
   "name": "python",
   "nbconvert_exporter": "python",
   "pygments_lexer": "ipython3",
   "version": "3.11.10"
  }
 },
 "nbformat": 4,
 "nbformat_minor": 5
}
